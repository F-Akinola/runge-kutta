{
 "cells": [
  {
   "cell_type": "code",
   "execution_count": 1,
   "metadata": {},
   "outputs": [],
   "source": [
    "import rungeKutta as rk"
   ]
  },
  {
   "cell_type": "code",
   "execution_count": 2,
   "metadata": {},
   "outputs": [],
   "source": [
    "import numpy as np\n",
    "\n",
    "def f(x,y):\n",
    "    return (np.exp(-2 * x)) - (2 * y)"
   ]
  },
  {
   "cell_type": "code",
   "execution_count": 3,
   "metadata": {},
   "outputs": [],
   "source": [
    "r1 = rk.RK2A(0.,1.,0.1,5,f)"
   ]
  },
  {
   "cell_type": "code",
   "execution_count": 4,
   "metadata": {},
   "outputs": [],
   "source": [
    "r2 = rk.RK2B(0.,1.,0.1,5,f)"
   ]
  },
  {
   "cell_type": "code",
   "execution_count": 5,
   "metadata": {},
   "outputs": [],
   "source": [
    "r3 = rk.RK2C(0.,1.,0.1,5,f)"
   ]
  },
  {
   "cell_type": "code",
   "execution_count": 6,
   "metadata": {},
   "outputs": [],
   "source": [
    "r4 = rk.RK3(0.,1.,0.1,5,f)"
   ]
  },
  {
   "cell_type": "code",
   "execution_count": 7,
   "metadata": {},
   "outputs": [],
   "source": [
    "r5 = rk.RK4(0.,1.,0.1,5,f)"
   ]
  },
  {
   "cell_type": "code",
   "execution_count": 8,
   "metadata": {},
   "outputs": [],
   "source": [
    "r6 = rk.RK5(0.,1.,0.1,5,f)"
   ]
  },
  {
   "cell_type": "code",
   "execution_count": 9,
   "metadata": {},
   "outputs": [],
   "source": [
    "r7 = rk.RKF45(0.,1.,0.1,5,f)"
   ]
  },
  {
   "cell_type": "code",
   "execution_count": 10,
   "metadata": {},
   "outputs": [
    {
     "name": "stdout",
     "output_type": "stream",
     "text": [
      "[[0.0, 1.0], [0.1, 0.9009365376538991], [0.2, 0.8050331933010986], [0.30000000000000004, 0.7143806021530277], [0.4, 0.6302110074151048], [0.5, 0.5531401567036469]]\n"
     ]
    }
   ],
   "source": [
    "print(r1)"
   ]
  },
  {
   "cell_type": "code",
   "execution_count": 11,
   "metadata": {},
   "outputs": [
    {
     "name": "stdout",
     "output_type": "stream",
     "text": [
      "[[0.0, 1.0], [0.1, 0.9004837418035959], [0.2, 0.8042911828163406], [0.30000000000000004, 0.7134686354203063], [0.4, 0.6292146950628518], [0.5, 0.5521197262844262]]\n"
     ]
    }
   ],
   "source": [
    "print(r2)"
   ]
  },
  {
   "cell_type": "code",
   "execution_count": 12,
   "metadata": {},
   "outputs": [
    {
     "name": "stdout",
     "output_type": "stream",
     "text": [
      "[[0.0, 1.0], [0.1, 0.9007138650950038], [0.2, 0.8046682929309703], [0.30000000000000004, 0.713932121969593], [0.4, 0.6297210483733279], [0.5, 0.5526383370591641]]\n"
     ]
    }
   ],
   "source": [
    "print(r3)"
   ]
  },
  {
   "cell_type": "code",
   "execution_count": 13,
   "metadata": {},
   "outputs": [
    {
     "name": "stdout",
     "output_type": "stream",
     "text": [
      "[[0.0, 1.0], [0.1, 0.9006024243001239], [0.2, 0.804376509244957], [0.30000000000000004, 0.7134394163973622], [0.4, 0.6290363660920618], [0.5, 0.5517872141423024]]\n"
     ]
    }
   ],
   "source": [
    "print(r4)"
   ]
  },
  {
   "cell_type": "code",
   "execution_count": 14,
   "metadata": {},
   "outputs": [
    {
     "name": "stdout",
     "output_type": "stream",
     "text": [
      "[[0.0, 1.0], [0.1, 0.9006040367728025], [0.2, 0.8043846077224733], [0.30000000000000004, 0.7134560648611615], [0.4, 0.6290618568734456], [0.5, 0.5518207893188574]]\n"
     ]
    }
   ],
   "source": [
    "print(r5)"
   ]
  },
  {
   "cell_type": "code",
   "execution_count": 15,
   "metadata": {},
   "outputs": [
    {
     "name": "stdout",
     "output_type": "stream",
     "text": [
      "[[0.0, 1.0], [0.1, 0.9006038440149957], [0.2, 0.8043840819475537], [0.30000000000000004, 0.7134551610845948], [0.4, 0.6290605885486698], [0.5, 0.5518192029762508]]\n"
     ]
    }
   ],
   "source": [
    "print(r6)"
   ]
  },
  {
   "cell_type": "code",
   "execution_count": 16,
   "metadata": {},
   "outputs": [
    {
     "name": "stdout",
     "output_type": "stream",
     "text": [
      "[[0.0, 1.0], [0.1, 0.8960049805368541], [0.2, 0.7962191340504307], [0.30000000000000004, 0.7026538200395851], [0.4, 0.6164301157643215], [0.5, 0.5380398037938693]]\n"
     ]
    }
   ],
   "source": [
    "print(r7)"
   ]
  },
  {
   "cell_type": "code",
   "execution_count": null,
   "metadata": {},
   "outputs": [],
   "source": []
  }
 ],
 "metadata": {
  "kernelspec": {
   "display_name": "Python 3",
   "language": "python",
   "name": "python3"
  },
  "language_info": {
   "codemirror_mode": {
    "name": "ipython",
    "version": 3
   },
   "file_extension": ".py",
   "mimetype": "text/x-python",
   "name": "python",
   "nbconvert_exporter": "python",
   "pygments_lexer": "ipython3",
   "version": "3.7.3"
  }
 },
 "nbformat": 4,
 "nbformat_minor": 2
}
